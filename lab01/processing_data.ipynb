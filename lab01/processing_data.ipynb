{
  "nbformat": 4,
  "nbformat_minor": 0,
  "metadata": {
    "colab": {
      "name": "processing_data.ipynb",
      "provenance": [],
      "collapsed_sections": []
    },
    "kernelspec": {
      "name": "python3",
      "display_name": "Python 3"
    }
  },
  "cells": [
    {
      "cell_type": "markdown",
      "metadata": {
        "id": "HttdgM-_hii0",
        "colab_type": "text"
      },
      "source": [
        "### Importa e processa dados iniciais"
      ]
    },
    {
      "cell_type": "code",
      "metadata": {
        "id": "e1Ig7fIP6uq8",
        "colab_type": "code",
        "colab": {
          "base_uri": "https://localhost:8080/",
          "height": 35
        },
        "outputId": "8609f189-2620-40a0-9655-ad7a532eb76d"
      },
      "source": [
        "from google.colab import drive\n",
        "drive.mount('/content/gdrive')"
      ],
      "execution_count": 1,
      "outputs": [
        {
          "output_type": "stream",
          "text": [
            "Drive already mounted at /content/gdrive; to attempt to forcibly remount, call drive.mount(\"/content/gdrive\", force_remount=True).\n"
          ],
          "name": "stdout"
        }
      ]
    },
    {
      "cell_type": "code",
      "metadata": {
        "id": "925Sx9VB53DB",
        "colab_type": "code",
        "colab": {}
      },
      "source": [
        "import pandas as pd\n",
        "\n",
        "# path = 'https://raw.githubusercontent.com/matheusgmaia/csv_conferences/master/'\n",
        "path = '/content/gdrive/My Drive/Visualização de Dados/lab 1/Dados/'"
      ],
      "execution_count": 0,
      "outputs": []
    },
    {
      "cell_type": "code",
      "metadata": {
        "id": "fQSqd6XC8G4U",
        "colab_type": "code",
        "colab": {}
      },
      "source": [
        "authors = pd.read_csv(path + 'authors.csv', sep=',\\s*', header=None, engine='python')\n",
        "conferences = pd.read_csv(path + 'conferences.csv', sep=',', engine='python')\n",
        "ethnicity = pd.read_csv(path + 'ethnicity.csv', sep=',\\s*', header=None, engine='python')\n",
        "papers = pd.read_csv(path + 'papers.csv', header=None)"
      ],
      "execution_count": 0,
      "outputs": []
    },
    {
      "cell_type": "code",
      "metadata": {
        "id": "F4cu1Za7UhIb",
        "colab_type": "code",
        "colab": {}
      },
      "source": [
        "# fix authors\n",
        "authors[0] = authors[0].apply(lambda x: x.strip(\"\\\"\"))\n",
        "authors[2] = authors[2].apply(lambda x: x.strip(\"\\\"\"))\n",
        "authors.columns = ['paper_key','position_of_author','full_name']"
      ],
      "execution_count": 0,
      "outputs": []
    },
    {
      "cell_type": "code",
      "metadata": {
        "id": "O1camTnDfNkf",
        "colab_type": "code",
        "colab": {}
      },
      "source": [
        "# fix ethnicity\n",
        "ethnicity = ethnicity.applymap(lambda x: x.strip(\"\\\"\"))\n",
        "ethnicity.columns = ['name','l0','l1','l2','gender']"
      ],
      "execution_count": 0,
      "outputs": []
    },
    {
      "cell_type": "code",
      "metadata": {
        "id": "Z180dYEkfz4u",
        "colab_type": "code",
        "colab": {}
      },
      "source": [
        "# fix papers\n",
        "papers.columns = ['global_key','paper_key','conf_key','link','title','pages','citations']\n",
        "# papers['pages'].value_counts()"
      ],
      "execution_count": 0,
      "outputs": []
    },
    {
      "cell_type": "markdown",
      "metadata": {
        "id": "Qnia2S7bhZGx",
        "colab_type": "text"
      },
      "source": [
        "### Organização dos dados para a criação das visualizações"
      ]
    },
    {
      "cell_type": "markdown",
      "metadata": {
        "id": "C1gA25mNhfLv",
        "colab_type": "text"
      },
      "source": [
        "- Como se deu a participação feminina nas conferências, ao longo dos anos?"
      ]
    },
    {
      "cell_type": "code",
      "metadata": {
        "id": "6O0Ik4I6s6l3",
        "colab_type": "code",
        "colab": {}
      },
      "source": [
        "auth_etn = pd.merge(authors.rename(columns={'full_name':'name'}),ethnicity,on='name')\n",
        "conferences = conferences.rename(columns={'title':'conf_title','link':'conf_link'})\n",
        "aux = pd.merge(papers,auth_etn,on='paper_key')\n",
        "data_authors = pd.merge(aux,conferences,on='conf_key')\n",
        "\n",
        "data_authors.drop('global_key_y', axis=1, inplace=True)\n",
        "data_authors.rename(columns={'global_key_x':'global_key'}, inplace=True)"
      ],
      "execution_count": 0,
      "outputs": []
    },
    {
      "cell_type": "code",
      "metadata": {
        "id": "0MPXd4Vq5d6Z",
        "colab_type": "code",
        "colab": {}
      },
      "source": [
        "# group by conf_key, year and gender\n",
        "gender_year = data_authors.groupby(['year','gender'])[['year']].count().rename(columns={'year':'count'})\n",
        "gender_year.to_csv(path + 'gender_year.csv')"
      ],
      "execution_count": 0,
      "outputs": []
    },
    {
      "cell_type": "markdown",
      "metadata": {
        "id": "-av5YfmzO9hB",
        "colab_type": "text"
      },
      "source": [
        "- Qual domínio de conferência apresenta a participação feminina mais crescente ao longo dos anos?"
      ]
    },
    {
      "cell_type": "code",
      "metadata": {
        "id": "xkf2u8UuPBdI",
        "colab_type": "code",
        "colab": {
          "base_uri": "https://localhost:8080/",
          "height": 35
        },
        "outputId": "2fa981d5-26f1-497f-b536-9e60fe6ec956"
      },
      "source": [
        "import numpy as np\n",
        "dummies = data_authors[['cs','de','se','th']]\n",
        "# pd.Series(dummies.columns[np.where(dummies != 0)[1]]).shape\n",
        "\n",
        "data_authors['conf_domain'] = (dummies == 1).idxmax(1)\n",
        "data_authors.drop(['cs','de','se','th'], axis=1, inplace=True)\n",
        "data_authors['conf_domain'].unique()"
      ],
      "execution_count": 9,
      "outputs": [
        {
          "output_type": "execute_result",
          "data": {
            "text/plain": [
              "array(['cs', 'de', 'th', 'se'], dtype=object)"
            ]
          },
          "metadata": {
            "tags": []
          },
          "execution_count": 9
        }
      ]
    },
    {
      "cell_type": "code",
      "metadata": {
        "id": "YTlZiTEDSUSb",
        "colab_type": "code",
        "colab": {}
      },
      "source": [
        "conf_domain = data_authors[data_authors['gender'] != '-'].groupby(['year','gender','conf_domain'])[['conf_domain']].count().rename(columns={'conf_domain':'count'})\n",
        "conf_domain.to_csv(path + 'conf_domain.csv')"
      ],
      "execution_count": 0,
      "outputs": []
    },
    {
      "cell_type": "code",
      "metadata": {
        "id": "LNXhtbSCZ7PM",
        "colab_type": "code",
        "colab": {}
      },
      "source": [
        "data_authors['conf_key'].unique().shape\n",
        "\n",
        "data_authors[data_authors['gender'] != '-'].groupby(['year','gender','conf_key'])[['conf_key']].count().rename(columns={'conf_key':'count'})"
      ],
      "execution_count": 0,
      "outputs": []
    },
    {
      "cell_type": "code",
      "metadata": {
        "id": "qmQ36aamhvlr",
        "colab_type": "code",
        "colab": {
          "base_uri": "https://localhost:8080/",
          "height": 90
        },
        "outputId": "7d659b6b-78ef-4e69-b6a8-9e82cbd3ae05"
      },
      "source": [
        "cs_domain[cs_domain['gender'] == 'F'].columns"
      ],
      "execution_count": 47,
      "outputs": [
        {
          "output_type": "execute_result",
          "data": {
            "text/plain": [
              "Index(['global_key', 'paper_key', 'conf_key', 'link', 'title', 'pages',\n",
              "       'citations', 'position_of_author', 'name', 'l0', 'l1', 'l2', 'gender',\n",
              "       'year', 'publisher', 'conf_title', 'conf_link', 'conf_domain'],\n",
              "      dtype='object')"
            ]
          },
          "metadata": {
            "tags": []
          },
          "execution_count": 47
        }
      ]
    },
    {
      "cell_type": "code",
      "metadata": {
        "id": "PMP6HgWteHZg",
        "colab_type": "code",
        "colab": {}
      },
      "source": [
        "cs_domain = data_authors[data_authors['conf_domain'] == 'cs']\n",
        "cs_domain[cs_domain['gender'] == 'F']['position_of_author'].unique()\n",
        "\n",
        "pos_author = cs_domain[cs_domain['gender'] != '-'].groupby(['year','gender','position_of_author'])[['position_of_author']].count().rename(columns={'position_of_author':'count'})\n",
        "\n",
        "# pos_author.to_csv(path + 'pos_author.csv')"
      ],
      "execution_count": 0,
      "outputs": []
    },
    {
      "cell_type": "code",
      "metadata": {
        "id": "1-Ss3nVGn-EL",
        "colab_type": "code",
        "colab": {
          "base_uri": "https://localhost:8080/",
          "height": 1000
        },
        "outputId": "f800116b-1391-418a-e669-0d71986e30bf"
      },
      "source": [
        "# cs_domain[cs_domain['gender'] != '-'].groupby(['year','gender','l0'])[['l0']].count().rename(columns={'l0':'count'}).to_csv(path + 'etn.csv')\n",
        "cs_domain[cs_domain['gender'] != '-'].groupby(['year','gender','l1'])[['l1']].count().rename(columns={'l1':'count'})"
      ],
      "execution_count": 59,
      "outputs": [
        {
          "output_type": "execute_result",
          "data": {
            "text/html": [
              "<div>\n",
              "<style scoped>\n",
              "    .dataframe tbody tr th:only-of-type {\n",
              "        vertical-align: middle;\n",
              "    }\n",
              "\n",
              "    .dataframe tbody tr th {\n",
              "        vertical-align: top;\n",
              "    }\n",
              "\n",
              "    .dataframe thead th {\n",
              "        text-align: right;\n",
              "    }\n",
              "</style>\n",
              "<table border=\"1\" class=\"dataframe\">\n",
              "  <thead>\n",
              "    <tr style=\"text-align: right;\">\n",
              "      <th></th>\n",
              "      <th></th>\n",
              "      <th></th>\n",
              "      <th>count</th>\n",
              "    </tr>\n",
              "    <tr>\n",
              "      <th>year</th>\n",
              "      <th>gender</th>\n",
              "      <th>l1</th>\n",
              "      <th></th>\n",
              "    </tr>\n",
              "  </thead>\n",
              "  <tbody>\n",
              "    <tr>\n",
              "      <th rowspan=\"16\" valign=\"top\">2000</th>\n",
              "      <th rowspan=\"8\" valign=\"top\">F</th>\n",
              "      <th>Africans</th>\n",
              "      <td>14</td>\n",
              "    </tr>\n",
              "    <tr>\n",
              "      <th>British</th>\n",
              "      <td>261</td>\n",
              "    </tr>\n",
              "    <tr>\n",
              "      <th>EastEuropean</th>\n",
              "      <td>47</td>\n",
              "    </tr>\n",
              "    <tr>\n",
              "      <th>GreaterEastAsian</th>\n",
              "      <td>228</td>\n",
              "    </tr>\n",
              "    <tr>\n",
              "      <th>IndianSubContinent</th>\n",
              "      <td>83</td>\n",
              "    </tr>\n",
              "    <tr>\n",
              "      <th>Jewish</th>\n",
              "      <td>143</td>\n",
              "    </tr>\n",
              "    <tr>\n",
              "      <th>Muslim</th>\n",
              "      <td>18</td>\n",
              "    </tr>\n",
              "    <tr>\n",
              "      <th>WestEuropean</th>\n",
              "      <td>172</td>\n",
              "    </tr>\n",
              "    <tr>\n",
              "      <th rowspan=\"8\" valign=\"top\">M</th>\n",
              "      <th>Africans</th>\n",
              "      <td>90</td>\n",
              "    </tr>\n",
              "    <tr>\n",
              "      <th>British</th>\n",
              "      <td>1126</td>\n",
              "    </tr>\n",
              "    <tr>\n",
              "      <th>EastEuropean</th>\n",
              "      <td>208</td>\n",
              "    </tr>\n",
              "    <tr>\n",
              "      <th>GreaterEastAsian</th>\n",
              "      <td>636</td>\n",
              "    </tr>\n",
              "    <tr>\n",
              "      <th>IndianSubContinent</th>\n",
              "      <td>548</td>\n",
              "    </tr>\n",
              "    <tr>\n",
              "      <th>Jewish</th>\n",
              "      <td>696</td>\n",
              "    </tr>\n",
              "    <tr>\n",
              "      <th>Muslim</th>\n",
              "      <td>182</td>\n",
              "    </tr>\n",
              "    <tr>\n",
              "      <th>WestEuropean</th>\n",
              "      <td>903</td>\n",
              "    </tr>\n",
              "    <tr>\n",
              "      <th rowspan=\"14\" valign=\"top\">2001</th>\n",
              "      <th rowspan=\"8\" valign=\"top\">F</th>\n",
              "      <th>Africans</th>\n",
              "      <td>11</td>\n",
              "    </tr>\n",
              "    <tr>\n",
              "      <th>British</th>\n",
              "      <td>285</td>\n",
              "    </tr>\n",
              "    <tr>\n",
              "      <th>EastEuropean</th>\n",
              "      <td>58</td>\n",
              "    </tr>\n",
              "    <tr>\n",
              "      <th>GreaterEastAsian</th>\n",
              "      <td>263</td>\n",
              "    </tr>\n",
              "    <tr>\n",
              "      <th>IndianSubContinent</th>\n",
              "      <td>110</td>\n",
              "    </tr>\n",
              "    <tr>\n",
              "      <th>Jewish</th>\n",
              "      <td>146</td>\n",
              "    </tr>\n",
              "    <tr>\n",
              "      <th>Muslim</th>\n",
              "      <td>40</td>\n",
              "    </tr>\n",
              "    <tr>\n",
              "      <th>WestEuropean</th>\n",
              "      <td>218</td>\n",
              "    </tr>\n",
              "    <tr>\n",
              "      <th rowspan=\"6\" valign=\"top\">M</th>\n",
              "      <th>Africans</th>\n",
              "      <td>118</td>\n",
              "    </tr>\n",
              "    <tr>\n",
              "      <th>British</th>\n",
              "      <td>1128</td>\n",
              "    </tr>\n",
              "    <tr>\n",
              "      <th>EastEuropean</th>\n",
              "      <td>235</td>\n",
              "    </tr>\n",
              "    <tr>\n",
              "      <th>GreaterEastAsian</th>\n",
              "      <td>782</td>\n",
              "    </tr>\n",
              "    <tr>\n",
              "      <th>IndianSubContinent</th>\n",
              "      <td>587</td>\n",
              "    </tr>\n",
              "    <tr>\n",
              "      <th>Jewish</th>\n",
              "      <td>769</td>\n",
              "    </tr>\n",
              "    <tr>\n",
              "      <th>...</th>\n",
              "      <th>...</th>\n",
              "      <th>...</th>\n",
              "      <td>...</td>\n",
              "    </tr>\n",
              "    <tr>\n",
              "      <th rowspan=\"14\" valign=\"top\">2015</th>\n",
              "      <th rowspan=\"6\" valign=\"top\">F</th>\n",
              "      <th>EastEuropean</th>\n",
              "      <td>285</td>\n",
              "    </tr>\n",
              "    <tr>\n",
              "      <th>GreaterEastAsian</th>\n",
              "      <td>2907</td>\n",
              "    </tr>\n",
              "    <tr>\n",
              "      <th>IndianSubContinent</th>\n",
              "      <td>407</td>\n",
              "    </tr>\n",
              "    <tr>\n",
              "      <th>Jewish</th>\n",
              "      <td>436</td>\n",
              "    </tr>\n",
              "    <tr>\n",
              "      <th>Muslim</th>\n",
              "      <td>256</td>\n",
              "    </tr>\n",
              "    <tr>\n",
              "      <th>WestEuropean</th>\n",
              "      <td>1045</td>\n",
              "    </tr>\n",
              "    <tr>\n",
              "      <th rowspan=\"8\" valign=\"top\">M</th>\n",
              "      <th>Africans</th>\n",
              "      <td>473</td>\n",
              "    </tr>\n",
              "    <tr>\n",
              "      <th>British</th>\n",
              "      <td>3549</td>\n",
              "    </tr>\n",
              "    <tr>\n",
              "      <th>EastEuropean</th>\n",
              "      <td>1156</td>\n",
              "    </tr>\n",
              "    <tr>\n",
              "      <th>GreaterEastAsian</th>\n",
              "      <td>5974</td>\n",
              "    </tr>\n",
              "    <tr>\n",
              "      <th>IndianSubContinent</th>\n",
              "      <td>2129</td>\n",
              "    </tr>\n",
              "    <tr>\n",
              "      <th>Jewish</th>\n",
              "      <td>2090</td>\n",
              "    </tr>\n",
              "    <tr>\n",
              "      <th>Muslim</th>\n",
              "      <td>1079</td>\n",
              "    </tr>\n",
              "    <tr>\n",
              "      <th>WestEuropean</th>\n",
              "      <td>4587</td>\n",
              "    </tr>\n",
              "    <tr>\n",
              "      <th rowspan=\"16\" valign=\"top\">2016</th>\n",
              "      <th rowspan=\"8\" valign=\"top\">F</th>\n",
              "      <th>Africans</th>\n",
              "      <td>126</td>\n",
              "    </tr>\n",
              "    <tr>\n",
              "      <th>British</th>\n",
              "      <td>837</td>\n",
              "    </tr>\n",
              "    <tr>\n",
              "      <th>EastEuropean</th>\n",
              "      <td>292</td>\n",
              "    </tr>\n",
              "    <tr>\n",
              "      <th>GreaterEastAsian</th>\n",
              "      <td>2956</td>\n",
              "    </tr>\n",
              "    <tr>\n",
              "      <th>IndianSubContinent</th>\n",
              "      <td>476</td>\n",
              "    </tr>\n",
              "    <tr>\n",
              "      <th>Jewish</th>\n",
              "      <td>433</td>\n",
              "    </tr>\n",
              "    <tr>\n",
              "      <th>Muslim</th>\n",
              "      <td>300</td>\n",
              "    </tr>\n",
              "    <tr>\n",
              "      <th>WestEuropean</th>\n",
              "      <td>925</td>\n",
              "    </tr>\n",
              "    <tr>\n",
              "      <th rowspan=\"8\" valign=\"top\">M</th>\n",
              "      <th>Africans</th>\n",
              "      <td>471</td>\n",
              "    </tr>\n",
              "    <tr>\n",
              "      <th>British</th>\n",
              "      <td>3295</td>\n",
              "    </tr>\n",
              "    <tr>\n",
              "      <th>EastEuropean</th>\n",
              "      <td>962</td>\n",
              "    </tr>\n",
              "    <tr>\n",
              "      <th>GreaterEastAsian</th>\n",
              "      <td>5806</td>\n",
              "    </tr>\n",
              "    <tr>\n",
              "      <th>IndianSubContinent</th>\n",
              "      <td>2092</td>\n",
              "    </tr>\n",
              "    <tr>\n",
              "      <th>Jewish</th>\n",
              "      <td>1832</td>\n",
              "    </tr>\n",
              "    <tr>\n",
              "      <th>Muslim</th>\n",
              "      <td>1085</td>\n",
              "    </tr>\n",
              "    <tr>\n",
              "      <th>WestEuropean</th>\n",
              "      <td>3945</td>\n",
              "    </tr>\n",
              "  </tbody>\n",
              "</table>\n",
              "<p>272 rows × 1 columns</p>\n",
              "</div>"
            ],
            "text/plain": [
              "                                count\n",
              "year gender l1                       \n",
              "2000 F      Africans               14\n",
              "            British               261\n",
              "            EastEuropean           47\n",
              "            GreaterEastAsian      228\n",
              "            IndianSubContinent     83\n",
              "            Jewish                143\n",
              "            Muslim                 18\n",
              "            WestEuropean          172\n",
              "     M      Africans               90\n",
              "            British              1126\n",
              "            EastEuropean          208\n",
              "            GreaterEastAsian      636\n",
              "            IndianSubContinent    548\n",
              "            Jewish                696\n",
              "            Muslim                182\n",
              "            WestEuropean          903\n",
              "2001 F      Africans               11\n",
              "            British               285\n",
              "            EastEuropean           58\n",
              "            GreaterEastAsian      263\n",
              "            IndianSubContinent    110\n",
              "            Jewish                146\n",
              "            Muslim                 40\n",
              "            WestEuropean          218\n",
              "     M      Africans              118\n",
              "            British              1128\n",
              "            EastEuropean          235\n",
              "            GreaterEastAsian      782\n",
              "            IndianSubContinent    587\n",
              "            Jewish                769\n",
              "...                               ...\n",
              "2015 F      EastEuropean          285\n",
              "            GreaterEastAsian     2907\n",
              "            IndianSubContinent    407\n",
              "            Jewish                436\n",
              "            Muslim                256\n",
              "            WestEuropean         1045\n",
              "     M      Africans              473\n",
              "            British              3549\n",
              "            EastEuropean         1156\n",
              "            GreaterEastAsian     5974\n",
              "            IndianSubContinent   2129\n",
              "            Jewish               2090\n",
              "            Muslim               1079\n",
              "            WestEuropean         4587\n",
              "2016 F      Africans              126\n",
              "            British               837\n",
              "            EastEuropean          292\n",
              "            GreaterEastAsian     2956\n",
              "            IndianSubContinent    476\n",
              "            Jewish                433\n",
              "            Muslim                300\n",
              "            WestEuropean          925\n",
              "     M      Africans              471\n",
              "            British              3295\n",
              "            EastEuropean          962\n",
              "            GreaterEastAsian     5806\n",
              "            IndianSubContinent   2092\n",
              "            Jewish               1832\n",
              "            Muslim               1085\n",
              "            WestEuropean         3945\n",
              "\n",
              "[272 rows x 1 columns]"
            ]
          },
          "metadata": {
            "tags": []
          },
          "execution_count": 59
        }
      ]
    },
    {
      "cell_type": "code",
      "metadata": {
        "id": "J5jz3yk1q4jc",
        "colab_type": "code",
        "colab": {}
      },
      "source": [
        ""
      ],
      "execution_count": 0,
      "outputs": []
    }
  ]
}