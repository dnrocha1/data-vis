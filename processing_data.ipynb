{
  "nbformat": 4,
  "nbformat_minor": 0,
  "metadata": {
    "colab": {
      "name": "processing_data.ipynb",
      "provenance": [],
      "collapsed_sections": []
    },
    "kernelspec": {
      "name": "python3",
      "display_name": "Python 3"
    }
  },
  "cells": [
    {
      "cell_type": "markdown",
      "metadata": {
        "id": "HttdgM-_hii0",
        "colab_type": "text"
      },
      "source": [
        "### Importa e processa dados iniciais"
      ]
    },
    {
      "cell_type": "code",
      "metadata": {
        "id": "e1Ig7fIP6uq8",
        "colab_type": "code",
        "colab": {}
      },
      "source": [
        "from google.colab import drive\n",
        "drive.mount('/content/gdrive')"
      ],
      "execution_count": 0,
      "outputs": []
    },
    {
      "cell_type": "code",
      "metadata": {
        "id": "925Sx9VB53DB",
        "colab_type": "code",
        "colab": {}
      },
      "source": [
        "import pandas as pd\n",
        "\n",
        "# path = 'https://raw.githubusercontent.com/matheusgmaia/csv_conferences/master/'\n",
        "path = '/content/gdrive/My Drive/Visualização de Dados/lab 1/Dados/'"
      ],
      "execution_count": 0,
      "outputs": []
    },
    {
      "cell_type": "code",
      "metadata": {
        "id": "fQSqd6XC8G4U",
        "colab_type": "code",
        "colab": {}
      },
      "source": [
        "authors = pd.read_csv(path + 'authors.csv', sep=',\\s*', header=None, engine='python')\n",
        "conferences = pd.read_csv(path + 'conferences.csv', sep=',', engine='python')\n",
        "ethnicity = pd.read_csv(path + 'ethnicity.csv', sep=',\\s*', header=None, engine='python')\n",
        "papers = pd.read_csv(path + 'papers.csv', header=None)"
      ],
      "execution_count": 0,
      "outputs": []
    },
    {
      "cell_type": "code",
      "metadata": {
        "id": "F4cu1Za7UhIb",
        "colab_type": "code",
        "colab": {}
      },
      "source": [
        "# fix authors\n",
        "authors[0] = authors[0].apply(lambda x: x.strip(\"\\\"\"))\n",
        "authors[2] = authors[2].apply(lambda x: x.strip(\"\\\"\"))\n",
        "authors.columns = ['paper_key','position_of_author','full_name']"
      ],
      "execution_count": 0,
      "outputs": []
    },
    {
      "cell_type": "code",
      "metadata": {
        "id": "O1camTnDfNkf",
        "colab_type": "code",
        "colab": {}
      },
      "source": [
        "# fix ethnicity\n",
        "ethnicity = ethnicity.applymap(lambda x: x.strip(\"\\\"\"))\n",
        "ethnicity.columns = ['name','l0','l1','l2','gender']"
      ],
      "execution_count": 0,
      "outputs": []
    },
    {
      "cell_type": "code",
      "metadata": {
        "id": "Z180dYEkfz4u",
        "colab_type": "code",
        "colab": {}
      },
      "source": [
        "# fix papers\n",
        "papers.columns = ['global_key','paper_key','conf_key','link','title','pages','citations']\n",
        "# papers['pages'].value_counts()"
      ],
      "execution_count": 0,
      "outputs": []
    },
    {
      "cell_type": "markdown",
      "metadata": {
        "id": "Qnia2S7bhZGx",
        "colab_type": "text"
      },
      "source": [
        "### Organização dos dados para a criação das visualizações"
      ]
    },
    {
      "cell_type": "markdown",
      "metadata": {
        "id": "C1gA25mNhfLv",
        "colab_type": "text"
      },
      "source": [
        "- Como se deu a participação feminina nas conferências, ao longo dos anos?"
      ]
    },
    {
      "cell_type": "code",
      "metadata": {
        "id": "bw9DzVfkhxvG",
        "colab_type": "code",
        "colab": {}
      },
      "source": [
        "gender = ethnicity[['name','gender']]"
      ],
      "execution_count": 0,
      "outputs": []
    },
    {
      "cell_type": "code",
      "metadata": {
        "id": "GkFfN59uqTOk",
        "colab_type": "code",
        "colab": {}
      },
      "source": [
        "authors[['paper_key','full_name']].head()"
      ],
      "execution_count": 0,
      "outputs": []
    },
    {
      "cell_type": "code",
      "metadata": {
        "id": "DmTivRCTqdJl",
        "colab_type": "code",
        "colab": {}
      },
      "source": [
        "authors[authors['full_name'].str.contains(\"A. A. Clark\")]"
      ],
      "execution_count": 0,
      "outputs": []
    },
    {
      "cell_type": "code",
      "metadata": {
        "id": "6O0Ik4I6s6l3",
        "colab_type": "code",
        "colab": {
          "base_uri": "https://localhost:8080/",
          "height": 206
        },
        "outputId": "5a965415-855d-42e2-b00e-5d84fd1e2866"
      },
      "source": [
        " auth_etn = pd.merge(authors.rename(columns={'full_name':'name'}),ethnicity,on='name')\n",
        " auth_etn.head()"
      ],
      "execution_count": 73,
      "outputs": [
        {
          "output_type": "execute_result",
          "data": {
            "text/html": [
              "<div>\n",
              "<style scoped>\n",
              "    .dataframe tbody tr th:only-of-type {\n",
              "        vertical-align: middle;\n",
              "    }\n",
              "\n",
              "    .dataframe tbody tr th {\n",
              "        vertical-align: top;\n",
              "    }\n",
              "\n",
              "    .dataframe thead th {\n",
              "        text-align: right;\n",
              "    }\n",
              "</style>\n",
              "<table border=\"1\" class=\"dataframe\">\n",
              "  <thead>\n",
              "    <tr style=\"text-align: right;\">\n",
              "      <th></th>\n",
              "      <th>paper_key</th>\n",
              "      <th>position_of_author</th>\n",
              "      <th>name</th>\n",
              "      <th>l0</th>\n",
              "      <th>l1</th>\n",
              "      <th>l2</th>\n",
              "      <th>gender</th>\n",
              "    </tr>\n",
              "  </thead>\n",
              "  <tbody>\n",
              "    <tr>\n",
              "      <th>0</th>\n",
              "      <td>conf/aaai/0001JT16</td>\n",
              "      <td>0</td>\n",
              "      <td>Bart Bogaerts 0001</td>\n",
              "      <td>GreaterEuropean</td>\n",
              "      <td>Jewish</td>\n",
              "      <td>\\N</td>\n",
              "      <td>M</td>\n",
              "    </tr>\n",
              "    <tr>\n",
              "      <th>1</th>\n",
              "      <td>conf/aaai/0001VD15</td>\n",
              "      <td>0</td>\n",
              "      <td>Bart Bogaerts 0001</td>\n",
              "      <td>GreaterEuropean</td>\n",
              "      <td>Jewish</td>\n",
              "      <td>\\N</td>\n",
              "      <td>M</td>\n",
              "    </tr>\n",
              "    <tr>\n",
              "      <th>2</th>\n",
              "      <td>conf/ijcai/0001VD15</td>\n",
              "      <td>0</td>\n",
              "      <td>Bart Bogaerts 0001</td>\n",
              "      <td>GreaterEuropean</td>\n",
              "      <td>Jewish</td>\n",
              "      <td>\\N</td>\n",
              "      <td>M</td>\n",
              "    </tr>\n",
              "    <tr>\n",
              "      <th>3</th>\n",
              "      <td>conf/ijcai/HertumC0D16</td>\n",
              "      <td>2</td>\n",
              "      <td>Bart Bogaerts 0001</td>\n",
              "      <td>GreaterEuropean</td>\n",
              "      <td>Jewish</td>\n",
              "      <td>\\N</td>\n",
              "      <td>M</td>\n",
              "    </tr>\n",
              "    <tr>\n",
              "      <th>4</th>\n",
              "      <td>conf/ijcai/Jansen0DJD16</td>\n",
              "      <td>1</td>\n",
              "      <td>Bart Bogaerts 0001</td>\n",
              "      <td>GreaterEuropean</td>\n",
              "      <td>Jewish</td>\n",
              "      <td>\\N</td>\n",
              "      <td>M</td>\n",
              "    </tr>\n",
              "  </tbody>\n",
              "</table>\n",
              "</div>"
            ],
            "text/plain": [
              "                 paper_key  position_of_author  ...  l2 gender\n",
              "0       conf/aaai/0001JT16                   0  ...  \\N      M\n",
              "1       conf/aaai/0001VD15                   0  ...  \\N      M\n",
              "2      conf/ijcai/0001VD15                   0  ...  \\N      M\n",
              "3   conf/ijcai/HertumC0D16                   2  ...  \\N      M\n",
              "4  conf/ijcai/Jansen0DJD16                   1  ...  \\N      M\n",
              "\n",
              "[5 rows x 7 columns]"
            ]
          },
          "metadata": {
            "tags": []
          },
          "execution_count": 73
        }
      ]
    }
  ]
}