{
  "nbformat": 4,
  "nbformat_minor": 0,
  "metadata": {
    "colab": {
      "name": "processing_data.ipynb",
      "provenance": [],
      "collapsed_sections": []
    },
    "kernelspec": {
      "name": "python3",
      "display_name": "Python 3"
    }
  },
  "cells": [
    {
      "cell_type": "code",
      "metadata": {
        "id": "e1Ig7fIP6uq8",
        "colab_type": "code",
        "colab": {}
      },
      "source": [
        "from google.colab import drive\n",
        "drive.mount('/content/gdrive')"
      ],
      "execution_count": 0,
      "outputs": []
    },
    {
      "cell_type": "code",
      "metadata": {
        "id": "925Sx9VB53DB",
        "colab_type": "code",
        "colab": {}
      },
      "source": [
        "import pandas as pd\n",
        "\n",
        "# path = 'https://raw.githubusercontent.com/matheusgmaia/csv_conferences/master/'\n",
        "path = '/content/gdrive/My Drive/Visualização de Dados/lab 1/Dados/'"
      ],
      "execution_count": 0,
      "outputs": []
    },
    {
      "cell_type": "code",
      "metadata": {
        "id": "fQSqd6XC8G4U",
        "colab_type": "code",
        "colab": {}
      },
      "source": [
        "# authors = pd.read_csv(path + 'authors.csv', sep=',\\s*', header=None, engine='python')\n",
        "# conferences = pd.read_csv(path + 'conferences.csv', sep=',', engine='python')\n",
        "# ethnicity = pd.read_csv(path + 'ethnicity.csv', sep=',\\s*', header=None, engine='python')\n",
        "papers = pd.read_csv(path + 'papers.csv', header=None)"
      ],
      "execution_count": 0,
      "outputs": []
    },
    {
      "cell_type": "code",
      "metadata": {
        "id": "F4cu1Za7UhIb",
        "colab_type": "code",
        "colab": {}
      },
      "source": [
        "# fix authors\n",
        "authors[0] = authors[0].apply(lambda x: x.strip(\"\\\"\"))\n",
        "authors[2] = authors[2].apply(lambda x: x.strip(\"\\\"\"))\n",
        "authors.columns = ['paper_key','position_of_author','full_name']\n",
        "authors.head()"
      ],
      "execution_count": 0,
      "outputs": []
    },
    {
      "cell_type": "code",
      "metadata": {
        "id": "O1camTnDfNkf",
        "colab_type": "code",
        "colab": {}
      },
      "source": [
        "# fix ethnicity\n",
        "ethnicity = ethnicity.applymap(lambda x: x.strip(\"\\\"\"))\n",
        "ethnicity.columns = ['name','l0','l1','l2','gender']"
      ],
      "execution_count": 0,
      "outputs": []
    },
    {
      "cell_type": "code",
      "metadata": {
        "id": "Z180dYEkfz4u",
        "colab_type": "code",
        "colab": {}
      },
      "source": [
        "# fix papers\n",
        "papers.columns = ['global_key','paper_key','conf_key','link','title','pages','citations']\n",
        "# papers['pages'].value_counts()"
      ],
      "execution_count": 0,
      "outputs": []
    }
  ]
}