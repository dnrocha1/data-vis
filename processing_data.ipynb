{
  "nbformat": 4,
  "nbformat_minor": 0,
  "metadata": {
    "colab": {
      "name": "processing_data.ipynb",
      "provenance": [],
      "collapsed_sections": []
    },
    "kernelspec": {
      "name": "python3",
      "display_name": "Python 3"
    }
  },
  "cells": [
    {
      "cell_type": "markdown",
      "metadata": {
        "id": "HttdgM-_hii0",
        "colab_type": "text"
      },
      "source": [
        "### Importa e processa dados iniciais"
      ]
    },
    {
      "cell_type": "code",
      "metadata": {
        "id": "e1Ig7fIP6uq8",
        "colab_type": "code",
        "colab": {}
      },
      "source": [
        "from google.colab import drive\n",
        "drive.mount('/content/gdrive')"
      ],
      "execution_count": 0,
      "outputs": []
    },
    {
      "cell_type": "code",
      "metadata": {
        "id": "925Sx9VB53DB",
        "colab_type": "code",
        "colab": {}
      },
      "source": [
        "import pandas as pd\n",
        "\n",
        "# path = 'https://raw.githubusercontent.com/matheusgmaia/csv_conferences/master/'\n",
        "path = '/content/gdrive/My Drive/Visualização de Dados/lab 1/Dados/'"
      ],
      "execution_count": 0,
      "outputs": []
    },
    {
      "cell_type": "code",
      "metadata": {
        "id": "fQSqd6XC8G4U",
        "colab_type": "code",
        "colab": {}
      },
      "source": [
        "authors = pd.read_csv(path + 'authors.csv', sep=',\\s*', header=None, engine='python')\n",
        "conferences = pd.read_csv(path + 'conferences.csv', sep=',', engine='python')\n",
        "ethnicity = pd.read_csv(path + 'ethnicity.csv', sep=',\\s*', header=None, engine='python')\n",
        "papers = pd.read_csv(path + 'papers.csv', header=None)"
      ],
      "execution_count": 0,
      "outputs": []
    },
    {
      "cell_type": "code",
      "metadata": {
        "id": "F4cu1Za7UhIb",
        "colab_type": "code",
        "colab": {}
      },
      "source": [
        "# fix authors\n",
        "authors[0] = authors[0].apply(lambda x: x.strip(\"\\\"\"))\n",
        "authors[2] = authors[2].apply(lambda x: x.strip(\"\\\"\"))\n",
        "authors.columns = ['paper_key','position_of_author','full_name']"
      ],
      "execution_count": 0,
      "outputs": []
    },
    {
      "cell_type": "code",
      "metadata": {
        "id": "O1camTnDfNkf",
        "colab_type": "code",
        "colab": {}
      },
      "source": [
        "# fix ethnicity\n",
        "ethnicity = ethnicity.applymap(lambda x: x.strip(\"\\\"\"))\n",
        "ethnicity.columns = ['name','l0','l1','l2','gender']"
      ],
      "execution_count": 0,
      "outputs": []
    },
    {
      "cell_type": "code",
      "metadata": {
        "id": "Z180dYEkfz4u",
        "colab_type": "code",
        "colab": {}
      },
      "source": [
        "# fix papers\n",
        "papers.columns = ['global_key','paper_key','conf_key','link','title','pages','citations']\n",
        "# papers['pages'].value_counts()"
      ],
      "execution_count": 0,
      "outputs": []
    },
    {
      "cell_type": "markdown",
      "metadata": {
        "id": "Qnia2S7bhZGx",
        "colab_type": "text"
      },
      "source": [
        "### Organização dos dados para a criação das visualizações"
      ]
    },
    {
      "cell_type": "markdown",
      "metadata": {
        "id": "C1gA25mNhfLv",
        "colab_type": "text"
      },
      "source": [
        "- Como se deu a participação feminina nas conferências, ao longo dos anos?"
      ]
    },
    {
      "cell_type": "code",
      "metadata": {
        "id": "6O0Ik4I6s6l3",
        "colab_type": "code",
        "colab": {}
      },
      "source": [
        "auth_etn = pd.merge(authors.rename(columns={'full_name':'name'}),ethnicity,on='name')\n",
        "conferences = conferences.rename(columns={'title':'conf_title','link':'conf_link'})\n",
        "aux = pd.merge(papers,auth_etn,on='paper_key')\n",
        "data_authors = pd.merge(aux,conferences,on='conf_key')\n",
        "\n",
        "data_authors.drop('global_key_y', axis=1, inplace=True)\n",
        "data_authors.rename(columns={'global_key_x':'global_key'}, inplace=True)"
      ],
      "execution_count": 0,
      "outputs": []
    },
    {
      "cell_type": "code",
      "metadata": {
        "id": "0zcgNXOv4A8Q",
        "colab_type": "code",
        "colab": {
          "base_uri": "https://localhost:8080/",
          "height": 747
        },
        "outputId": "169b7bb1-4922-4e84-c295-c8fe84bbb973"
      },
      "source": [
        "data_authors.head()"
      ],
      "execution_count": 23,
      "outputs": [
        {
          "output_type": "execute_result",
          "data": {
            "text/html": [
              "<div>\n",
              "<style scoped>\n",
              "    .dataframe tbody tr th:only-of-type {\n",
              "        vertical-align: middle;\n",
              "    }\n",
              "\n",
              "    .dataframe tbody tr th {\n",
              "        vertical-align: top;\n",
              "    }\n",
              "\n",
              "    .dataframe thead th {\n",
              "        text-align: right;\n",
              "    }\n",
              "</style>\n",
              "<table border=\"1\" class=\"dataframe\">\n",
              "  <thead>\n",
              "    <tr style=\"text-align: right;\">\n",
              "      <th></th>\n",
              "      <th>global_key</th>\n",
              "      <th>paper_key</th>\n",
              "      <th>conf_key</th>\n",
              "      <th>link</th>\n",
              "      <th>title</th>\n",
              "      <th>pages</th>\n",
              "      <th>citations</th>\n",
              "      <th>position_of_author</th>\n",
              "      <th>name</th>\n",
              "      <th>l0</th>\n",
              "      <th>l1</th>\n",
              "      <th>l2</th>\n",
              "      <th>gender</th>\n",
              "      <th>year</th>\n",
              "      <th>publisher</th>\n",
              "      <th>conf_title</th>\n",
              "      <th>conf_link</th>\n",
              "      <th>cs</th>\n",
              "      <th>de</th>\n",
              "      <th>se</th>\n",
              "      <th>th</th>\n",
              "    </tr>\n",
              "  </thead>\n",
              "  <tbody>\n",
              "    <tr>\n",
              "      <th>0</th>\n",
              "      <td>acl</td>\n",
              "      <td>conf/acl/SorodocLBHPB16</td>\n",
              "      <td>conf/acl/2016vl</td>\n",
              "      <td>http://aclweb.org/anthology/W/W16/W16-3211.pdf</td>\n",
              "      <td>\\Look</td>\n",
              "      <td>some Green Circles!\\\": Learning to Quantify fr...</td>\n",
              "      <td>\\N</td>\n",
              "      <td>5</td>\n",
              "      <td>Raffaella Bernardi</td>\n",
              "      <td>GreaterEuropean</td>\n",
              "      <td>WestEuropean</td>\n",
              "      <td>Italian</td>\n",
              "      <td>F</td>\n",
              "      <td>2016</td>\n",
              "      <td>The Association for Computer Linguistics</td>\n",
              "      <td>Proceedings of the 5th Workshop on Vision and ...</td>\n",
              "      <td>http://aclweb.org/anthology/W/W16/</td>\n",
              "      <td>1</td>\n",
              "      <td>0</td>\n",
              "      <td>0</td>\n",
              "      <td>0</td>\n",
              "    </tr>\n",
              "    <tr>\n",
              "      <th>1</th>\n",
              "      <td>acl</td>\n",
              "      <td>conf/acl/SorodocLBHPB16</td>\n",
              "      <td>conf/acl/2016vl</td>\n",
              "      <td>http://aclweb.org/anthology/W/W16/W16-3211.pdf</td>\n",
              "      <td>\\Look</td>\n",
              "      <td>some Green Circles!\\\": Learning to Quantify fr...</td>\n",
              "      <td>\\N</td>\n",
              "      <td>2</td>\n",
              "      <td>Gemma Boleda</td>\n",
              "      <td>GreaterEuropean</td>\n",
              "      <td>British</td>\n",
              "      <td>\\N</td>\n",
              "      <td>F</td>\n",
              "      <td>2016</td>\n",
              "      <td>The Association for Computer Linguistics</td>\n",
              "      <td>Proceedings of the 5th Workshop on Vision and ...</td>\n",
              "      <td>http://aclweb.org/anthology/W/W16/</td>\n",
              "      <td>1</td>\n",
              "      <td>0</td>\n",
              "      <td>0</td>\n",
              "      <td>0</td>\n",
              "    </tr>\n",
              "    <tr>\n",
              "      <th>2</th>\n",
              "      <td>acl</td>\n",
              "      <td>conf/acl/SorodocLBHPB16</td>\n",
              "      <td>conf/acl/2016vl</td>\n",
              "      <td>http://aclweb.org/anthology/W/W16/W16-3211.pdf</td>\n",
              "      <td>\\Look</td>\n",
              "      <td>some Green Circles!\\\": Learning to Quantify fr...</td>\n",
              "      <td>\\N</td>\n",
              "      <td>3</td>\n",
              "      <td>Aurélie Herbelot</td>\n",
              "      <td>GreaterEuropean</td>\n",
              "      <td>WestEuropean</td>\n",
              "      <td>Germanic</td>\n",
              "      <td>F</td>\n",
              "      <td>2016</td>\n",
              "      <td>The Association for Computer Linguistics</td>\n",
              "      <td>Proceedings of the 5th Workshop on Vision and ...</td>\n",
              "      <td>http://aclweb.org/anthology/W/W16/</td>\n",
              "      <td>1</td>\n",
              "      <td>0</td>\n",
              "      <td>0</td>\n",
              "      <td>0</td>\n",
              "    </tr>\n",
              "    <tr>\n",
              "      <th>3</th>\n",
              "      <td>acl</td>\n",
              "      <td>conf/acl/SorodocLBHPB16</td>\n",
              "      <td>conf/acl/2016vl</td>\n",
              "      <td>http://aclweb.org/anthology/W/W16/W16-3211.pdf</td>\n",
              "      <td>\\Look</td>\n",
              "      <td>some Green Circles!\\\": Learning to Quantify fr...</td>\n",
              "      <td>\\N</td>\n",
              "      <td>1</td>\n",
              "      <td>Angeliki Lazaridou</td>\n",
              "      <td>GreaterAfrican</td>\n",
              "      <td>Muslim</td>\n",
              "      <td>\\N</td>\n",
              "      <td>F</td>\n",
              "      <td>2016</td>\n",
              "      <td>The Association for Computer Linguistics</td>\n",
              "      <td>Proceedings of the 5th Workshop on Vision and ...</td>\n",
              "      <td>http://aclweb.org/anthology/W/W16/</td>\n",
              "      <td>1</td>\n",
              "      <td>0</td>\n",
              "      <td>0</td>\n",
              "      <td>0</td>\n",
              "    </tr>\n",
              "    <tr>\n",
              "      <th>4</th>\n",
              "      <td>acl</td>\n",
              "      <td>conf/acl/SorodocLBHPB16</td>\n",
              "      <td>conf/acl/2016vl</td>\n",
              "      <td>http://aclweb.org/anthology/W/W16/W16-3211.pdf</td>\n",
              "      <td>\\Look</td>\n",
              "      <td>some Green Circles!\\\": Learning to Quantify fr...</td>\n",
              "      <td>\\N</td>\n",
              "      <td>4</td>\n",
              "      <td>Sandro Pezzelle</td>\n",
              "      <td>GreaterEuropean</td>\n",
              "      <td>WestEuropean</td>\n",
              "      <td>Italian</td>\n",
              "      <td>M</td>\n",
              "      <td>2016</td>\n",
              "      <td>The Association for Computer Linguistics</td>\n",
              "      <td>Proceedings of the 5th Workshop on Vision and ...</td>\n",
              "      <td>http://aclweb.org/anthology/W/W16/</td>\n",
              "      <td>1</td>\n",
              "      <td>0</td>\n",
              "      <td>0</td>\n",
              "      <td>0</td>\n",
              "    </tr>\n",
              "  </tbody>\n",
              "</table>\n",
              "</div>"
            ],
            "text/plain": [
              "  global_key                paper_key         conf_key  ... de se th\n",
              "0        acl  conf/acl/SorodocLBHPB16  conf/acl/2016vl  ...  0  0  0\n",
              "1        acl  conf/acl/SorodocLBHPB16  conf/acl/2016vl  ...  0  0  0\n",
              "2        acl  conf/acl/SorodocLBHPB16  conf/acl/2016vl  ...  0  0  0\n",
              "3        acl  conf/acl/SorodocLBHPB16  conf/acl/2016vl  ...  0  0  0\n",
              "4        acl  conf/acl/SorodocLBHPB16  conf/acl/2016vl  ...  0  0  0\n",
              "\n",
              "[5 rows x 21 columns]"
            ]
          },
          "metadata": {
            "tags": []
          },
          "execution_count": 23
        }
      ]
    }
  ]
}